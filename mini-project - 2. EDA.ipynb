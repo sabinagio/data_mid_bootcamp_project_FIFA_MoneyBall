{
 "cells": [
  {
   "cell_type": "code",
   "execution_count": null,
   "metadata": {},
   "outputs": [],
   "source": [
    "# Import libraries\n",
    "import pandas as pd\n",
    "import numpy as np\n",
    "import matplotlib.pyplot as plt\n",
    "import seaborn as sns\n",
    "import squarify  # to draw treemap in matplotlib\n",
    "\n",
    "pd.set_option('display.max_columns', None)\n",
    "pd.set_option('display.max_rows', None)\n",
    "\n",
    "# Read clean dataframe from previous notebook\n",
    "data = pd.read_csv('fifa21_male2-post-cleaning.csv')"
   ]
  },
  {
   "cell_type": "markdown",
   "metadata": {},
   "source": [
    "### 2. Exploratory Data Analysis\n",
    "\n",
    "#### 2.1. Categorical & Discrete Numerical data"
   ]
  },
  {
   "cell_type": "code",
   "execution_count": null,
   "metadata": {},
   "outputs": [],
   "source": [
    "# Select categorical and discrete numerical data\n",
    "cat_cols = []\n",
    "\n",
    "for column in data.columns:\n",
    "    if len(data[column].unique()) <= 10 or data[column].dtypes == np.object:\n",
    "        cat_cols.append(column)\n",
    "\n",
    "# Save bar plots for categorical data with few values\n",
    "for column in cat_cols:\n",
    "    x = data[column].unique()\n",
    "    y = data[column].value_counts()\n",
    "    if len(x) < 100:\n",
    "        fig, ax = plt.subplots(figsize = (12, 9))\n",
    "        plt.title(column)\n",
    "        plt.bar(x, y)\n",
    "        fig.savefig('cat_graphs/{}.png'.format(column))\n",
    "        plt.close(fig)"
   ]
  },
  {
   "cell_type": "markdown",
   "metadata": {},
   "source": [
    "From these plots, we see that:\n",
    "* most players in the dataset are in center positions (*CM*, *CAM*, *CF*)\n",
    "- players' position rating is mostly from 1-3 stars\n",
    "* ~ 3/4 of players prefer playing with their right-foot\n",
    "- most players play relatively well with their weak foot (4-5 ratings)\n",
    "* most players have a 3-4 rating for skill moves\n",
    "- most players have a moderate amount of wins away from home, as well as draws\n",
    "* the vast majority of the players in the dataset have an international reputation of 1 star\n",
    "- the vast majority of players play for the team they've been contracted in, rather than on loan\n",
    "\n",
    "Therefore, we'll remove the `international_reputation` and `on_loan` columns:"
   ]
  },
  {
   "cell_type": "code",
   "execution_count": null,
   "metadata": {},
   "outputs": [],
   "source": [
    "data.drop(['international_reputation', 'on_loan'], axis=1, inplace=True)"
   ]
  },
  {
   "cell_type": "markdown",
   "metadata": {},
   "source": [
    "Given there are too many categories in the `nationality` and `club` columns, we cannot easily visualize them using (small) bar plots. However, inspired by [4m4n5's graph](https://github.com/4m4n5/fifa18-all-player-statistics) for representing nationality data, we used a treemap:"
   ]
  },
  {
   "cell_type": "code",
   "execution_count": null,
   "metadata": {},
   "outputs": [],
   "source": [
    "nationality = pd.DataFrame(data['nationality'].value_counts())\n",
    "nationality.sort_values(ascending=False, inplace=True, by='nationality')\n",
    "nationality.reset_index(inplace=True)\n",
    "nationality.rename({'index': 'nationality', 'nationality':'number_of_players'}, axis=1, inplace=True)"
   ]
  },
  {
   "cell_type": "code",
   "execution_count": null,
   "metadata": {},
   "outputs": [],
   "source": [
    "# Rename countries with less than 10 players to 'Other' and remove columns:\n",
    "other_count = 0\n",
    "\n",
    "for i in range(0, nationality.shape[0]):\n",
    "    if nationality.loc[i, 'number_of_players'] < 30:\n",
    "        nationality.loc[i,'nationality'] = 'Other'\n",
    "        other_count += nationality.loc[i, 'number_of_players']\n",
    "        nationality.drop(i, axis=0, inplace=True)\n",
    "\n",
    "# Add back the consolidated 'Other' column:\n",
    "nationality.loc[len(nationality.index)] = ['Other', other_count]"
   ]
  },
  {
   "cell_type": "code",
   "execution_count": null,
   "metadata": {},
   "outputs": [],
   "source": [
    "# Plot data\n",
    "fig, ax = plt.subplots(figsize = (20, 9))\n",
    "squarify.plot(sizes=nationality['number_of_players'], label=nationality['nationality'], alpha=.8)\n",
    "plt.axis('off')\n",
    "plt.show()"
   ]
  },
  {
   "cell_type": "markdown",
   "metadata": {},
   "source": [
    "#### 2.2. Continuous numerical data"
   ]
  },
  {
   "cell_type": "markdown",
   "metadata": {},
   "source": [
    "We will have a look at the overall and potential scores of the players, to get an idea of whether or not they would be collinear:"
   ]
  },
  {
   "cell_type": "code",
   "execution_count": null,
   "metadata": {},
   "outputs": [],
   "source": [
    "# Sort the best players by overall score\n",
    "best_players = data.sort_values([\"overall_score\"], ascending=[False])\n",
    "rank = best_players[[\"name\", \"overall_score\"]]\n",
    "rank.head(10)"
   ]
  },
  {
   "cell_type": "code",
   "execution_count": null,
   "metadata": {},
   "outputs": [],
   "source": [
    "# Sort the best potential players\n",
    "best_pot = data.sort_values([\"potential_score\"], ascending=[False])\n",
    "rank_2 = best_players[[\"name\", \"potential_score\"]]\n",
    "rank_2.head(10) # same players as sorted by overall score"
   ]
  },
  {
   "cell_type": "code",
   "execution_count": null,
   "metadata": {},
   "outputs": [],
   "source": [
    "# Would there be any difference between players with the worst overall and potential score?\n",
    "worst_players = data.sort_values([\"overall_score\"], ascending=[False])\n",
    "rank = worst_players[[\"name\", \"overall_score\"]]\n",
    "rank.tail(10)"
   ]
  },
  {
   "cell_type": "code",
   "execution_count": null,
   "metadata": {},
   "outputs": [],
   "source": [
    "worst_pot = data.sort_values([\"potential_score\"], ascending=[False])\n",
    "rank_2 = worst_players[[\"name\", \"potential_score\"]]\n",
    "rank_2.tail(10) # the players are exactly the same"
   ]
  },
  {
   "cell_type": "code",
   "execution_count": null,
   "metadata": {},
   "outputs": [],
   "source": [
    "# How many hits do the best players have?\n",
    "best_hits = data.sort_values([\"overall_score\", \"hits\"], ascending=[False, False])\n",
    "rank_3 = best_players[[\"name\", \"overall_score\", \"hits\"]]\n",
    "rank_3.head(3)"
   ]
  },
  {
   "cell_type": "markdown",
   "metadata": {},
   "source": [
    "Now, we will have a look at the data distribution:"
   ]
  },
  {
   "cell_type": "code",
   "execution_count": null,
   "metadata": {},
   "outputs": [],
   "source": [
    "# Select the numerical data\n",
    "num = data.select_dtypes(np.number)\n",
    "\n",
    "# Extract the continuous numerical data and plot it\n",
    "for column in num.columns:\n",
    "    if len(data[column].unique()) > 10:\n",
    "        sns.displot(data[column])\n",
    "        plt.savefig('num_graphs/{}-barplot.png'.format(column))"
   ]
  },
  {
   "cell_type": "markdown",
   "metadata": {},
   "source": [
    "We can see that many of the attributes are normally distributed, except for the `wage`, `value`, `release_clause`, `hits`, and `joined` columns, which are heavily skewed towards lower values. We'll also represent the data using boxplots, to get an image of the amount of outliers present:"
   ]
  },
  {
   "cell_type": "code",
   "execution_count": null,
   "metadata": {},
   "outputs": [],
   "source": [
    "# Extract the continuous numerical data and plot it\n",
    "for column in num.columns:\n",
    "    if len(data[column].unique()) > 10:\n",
    "        sns.boxplot(x=column, data=data)\n",
    "        plt.savefig('num_graphs/{}-boxplot.png'.format(column))"
   ]
  },
  {
   "cell_type": "markdown",
   "metadata": {},
   "source": [
    "We can see there will be a considerable amount of outliers in:\n",
    "- distributions that have two medians\n",
    "* non-Gaussian distributions, e.g. `value`, `wage`, `release_clause`"
   ]
  },
  {
   "cell_type": "markdown",
   "metadata": {},
   "source": [
    "#### 2.3. Correlation between different attributes"
   ]
  },
  {
   "cell_type": "code",
   "execution_count": null,
   "metadata": {},
   "outputs": [],
   "source": [
    "# Calculate correlation matrix\n",
    "data.corr()\n",
    "\n",
    "# Create heatmap\n",
    "mask = np.zeros_like(data.corr())\n",
    "mask[np.triu_indices_from(mask)] = True # optional, to hide repeat half of the matrix\n",
    "fig, ax = plt.subplots(figsize=(80, 76))\n",
    "ax = sns.heatmap(data.corr(), mask=mask, annot=True)\n",
    "plt.savefig('corr_matrix.png'.format(column))"
   ]
  },
  {
   "cell_type": "markdown",
   "metadata": {},
   "source": [
    "We can notice that:\n",
    "* `value`, `wage` and `release clause` are highly correlated to each other (around 0.6)\n",
    "- positions are very highly correlated (>0.95) to stats relevant to those positions, ie. attacking positions correlated to attacking stats\n",
    "\n",
    "Whilst these were easy to spot, there are many other features that are highly correlated between themselves. Therefore, we created a function to find them and remove the feature that is the least correlated with a chosen target, which we'll use when we begin modelling:"
   ]
  },
  {
   "cell_type": "code",
   "execution_count": null,
   "metadata": {},
   "outputs": [],
   "source": [
    "def corr_destroyer(data, target, max_threshold=0.95):\n",
    "    corr_data = data.corr()\n",
    "    corr_target = corr_data[target]\n",
    "    corr_data.drop(target, axis=1, inplace=True)\n",
    "    corr_data.drop(target, axis=0, inplace=True)\n",
    "    \n",
    "    column_no = corr_data.shape[0]\n",
    "    to_drop = []\n",
    "\n",
    "    for i in range(0, column_no):\n",
    "        for j in range(i + 1, column_no):\n",
    "            if corr_data.iloc[i, j] > max_threshold:\n",
    "                if corr_target.iloc[i] > corr_target.iloc[j]:\n",
    "                    to_drop.append(corr_data.columns[j])\n",
    "                else:                 \n",
    "                    to_drop.append(corr_data.columns[i])\n",
    "    \n",
    "    to_drop = list(set(to_drop)) # Get unique values\n",
    "    return to_drop"
   ]
  },
  {
   "cell_type": "code",
   "execution_count": null,
   "metadata": {},
   "outputs": [],
   "source": [
    "# Save \"cleaner\" data to csv\n",
    "data.to_csv('fifa21_male2-post-exploration.csv', index=False)"
   ]
  }
 ],
 "metadata": {
  "interpreter": {
   "hash": "916dbcbb3f70747c44a77c7bcd40155683ae19c65e1c03b4aa3499c5328201f1"
  },
  "kernelspec": {
   "display_name": "Python 3.8.10 64-bit",
   "language": "python",
   "name": "python3"
  },
  "language_info": {
   "codemirror_mode": {
    "name": "ipython",
    "version": 3
   },
   "file_extension": ".py",
   "mimetype": "text/x-python",
   "name": "python",
   "nbconvert_exporter": "python",
   "pygments_lexer": "ipython3",
   "version": "3.8.10"
  },
  "orig_nbformat": 4
 },
 "nbformat": 4,
 "nbformat_minor": 2
}

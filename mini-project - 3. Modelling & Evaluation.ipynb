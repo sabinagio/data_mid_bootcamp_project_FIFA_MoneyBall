{
  "cells": [
    {
      "cell_type": "code",
      "execution_count": null,
      "metadata": {
        "id": "HdH9WPH-k4z1"
      },
      "outputs": [],
      "source": [
        "# Import libraries\n",
        "import pandas as pd\n",
        "import numpy as np\n",
        "import seaborn as sns\n",
        "import scipy.stats as stats\n",
        "from scipy.stats import chi2_contingency\n",
        "from scipy.special import inv_boxcox       # to use absolute value\n",
        "from sklearn.preprocessing import MinMaxScaler\n",
        "\n",
        "from sklearn.model_selection import train_test_split\n",
        "from sklearn.linear_model import LinearRegression\n",
        "from sklearn.metrics import r2_score, mean_squared_error, mean_absolute_error\n",
        "\n",
        "pd.set_option('display.max_columns', None)\n",
        "pd.set_option('display.max_rows', None)"
      ]
    },
    {
      "cell_type": "code",
      "source": [
        "# Read cleanest data\n",
        "data = pd.read_csv('fifa21_male2-post-exploration.csv', index_col='ID')\n",
        "\n",
        "# Remove name & club columns, as they would not help the model\n",
        "data.drop(['name', 'club'], axis=1, inplace=True)"
      ],
      "metadata": {
        "id": "hcd6AUb5xKrS"
      },
      "execution_count": null,
      "outputs": []
    },
    {
      "cell_type": "code",
      "execution_count": null,
      "metadata": {
        "id": "UxvGs3kIk4z4"
      },
      "outputs": [],
      "source": [
        "def corr_destroyer(data, target, max_threshold=0.95):\n",
        "    corr_data = data.corr()\n",
        "    corr_target = corr_data[target]\n",
        "    corr_data.drop(target, axis=1, inplace=True)\n",
        "    corr_data.drop(target, axis=0, inplace=True)\n",
        "    \n",
        "    column_no = corr_data.shape[0]\n",
        "    to_drop = []\n",
        "\n",
        "    for i in range(0, column_no):\n",
        "        for j in range(i + 1, column_no):\n",
        "            if corr_data.iloc[i, j] > max_threshold:\n",
        "                if corr_target.iloc[i] > corr_target.iloc[j]:\n",
        "                    to_drop.append(corr_data.columns[j])\n",
        "                else:                 \n",
        "                    to_drop.append(corr_data.columns[i])\n",
        "    \n",
        "    to_drop = list(set(to_drop)) # Get unique values\n",
        "    return to_drop"
      ]
    },
    {
      "cell_type": "markdown",
      "metadata": {
        "id": "6xH39Vqzk4z5"
      },
      "source": [
        "### 3. Modelling & Evaluation"
      ]
    },
    {
      "cell_type": "markdown",
      "source": [
        "#### 3.1. Define scaling, normalizing & encoding functions\n"
      ],
      "metadata": {
        "id": "DH-vhaYOAmWU"
      }
    },
    {
      "cell_type": "markdown",
      "source": [
        "##### 3.1.1. Data Scaling"
      ],
      "metadata": {
        "id": "4rCSVCOjAimw"
      }
    },
    {
      "cell_type": "code",
      "execution_count": null,
      "metadata": {
        "id": "p_jfNm3wk4z7"
      },
      "outputs": [],
      "source": [
        "def normalize_data(df):\n",
        "    num = df.select_dtypes(np.number)\n",
        "    transformer = MinMaxScaler().fit(num) \n",
        "    x_minmax = transformer.transform(num)\n",
        "    num_norm = pd.DataFrame(x_minmax, columns=num.columns, index=num.index)\n",
        "    return num_norm"
      ]
    },
    {
      "cell_type": "markdown",
      "metadata": {
        "id": "octwHkkzk4z7"
      },
      "source": [
        "##### 3.1.2. Box-Cox transformation"
      ]
    },
    {
      "cell_type": "code",
      "execution_count": null,
      "metadata": {
        "id": "r-6EDUTYk4z8"
      },
      "outputs": [],
      "source": [
        "def boxcox_transform(data):\n",
        "    numeric_cols = data.select_dtypes(np.number).columns\n",
        "    _ci = {column: None for column in numeric_cols}\n",
        "    for column in numeric_cols:\n",
        "        if len(data[column].unique()) < 100:\n",
        "            continue\n",
        "        else:\n",
        "            # since i know any columns should take negative numbers, to avoid -inf in df\n",
        "            data[column] = np.where(data[column]<=0, np.NAN, data[column]) \n",
        "            data[column] = data[column].fillna(data[column].median())\n",
        "            transformed_data, ci = stats.boxcox(data[column])\n",
        "            data[column] = transformed_data\n",
        "            _ci[column] = [ci] \n",
        "    return data, _ci"
      ]
    },
    {
      "cell_type": "markdown",
      "metadata": {
        "id": "xUXhhWRTk4z9"
      },
      "source": [
        "##### 3.1.3. Remove outliers"
      ]
    },
    {
      "cell_type": "code",
      "execution_count": null,
      "metadata": {
        "id": "tdZJJbbtk4z9"
      },
      "outputs": [],
      "source": [
        "def remove_outliers(df, threshold=1.5):\n",
        "    numerical = df.select_dtypes(np.number)\n",
        "    columns = numerical.columns\n",
        "    for column in columns:\n",
        "        if len(df[column].unique()) < 100:\n",
        "            continue\n",
        "        else:\n",
        "            upper = np.percentile(df[column], 75)\n",
        "            lower = np.percentile(df[column], 25)\n",
        "            iqr = upper - lower\n",
        "            upper_limit = upper + threshold * iqr\n",
        "            lower_limit = lower - threshold * iqr\n",
        "            df = df[(df[column]>lower_limit) & (df[column]<upper_limit)]\n",
        "    return df"
      ]
    },
    {
      "cell_type": "markdown",
      "metadata": {
        "id": "3KPAl9Pbk4z-"
      },
      "source": [
        "##### 3.1.5. Encode categorical data (`get_dummies`)"
      ]
    },
    {
      "cell_type": "code",
      "execution_count": null,
      "metadata": {
        "id": "Bx1bDJMVk4z_"
      },
      "outputs": [],
      "source": [
        "def encode_cat(df):\n",
        "    cat = df.select_dtypes(object)\n",
        "    cat = pd.get_dummies(cat, columns=cat.columns, drop_first=True)\n",
        "    return cat"
      ]
    },
    {
      "cell_type": "markdown",
      "metadata": {
        "id": "EKHbBEvuk40A"
      },
      "source": [
        "##### 3.1.6. Concatenate numerical and categorical data"
      ]
    },
    {
      "cell_type": "code",
      "execution_count": null,
      "metadata": {
        "id": "cSGneZIuk40A"
      },
      "outputs": [],
      "source": [
        "def new_df(num, cat):\n",
        "    new_df = pd.concat([num, cat], axis=1)\n",
        "    return new_df"
      ]
    },
    {
      "cell_type": "markdown",
      "metadata": {
        "id": "e8Uq7Dwak40B"
      },
      "source": [
        "#### 3.2. Define evaluating functions"
      ]
    },
    {
      "cell_type": "markdown",
      "source": [
        "##### 3.2.1. Running linear regression model"
      ],
      "metadata": {
        "id": "xS5iu7ulBE2O"
      }
    },
    {
      "cell_type": "code",
      "execution_count": null,
      "metadata": {
        "id": "iiTNKhYIk40B"
      },
      "outputs": [],
      "source": [
        "def regression(df, target):\n",
        "    y = df[target]\n",
        "    X = df.drop(target, axis=1)\n",
        "    X_train, X_test, y_train, y_test = train_test_split(X, y, test_size=0.3, random_state=42)\n",
        "    model = LinearRegression()\n",
        "    model.fit(X_train, y_train)\n",
        "    predictions = model.predict(X_test)\n",
        "    r2 = r2_score(y_test, predictions)\n",
        "    return r2, predictions, y_test"
      ]
    },
    {
      "cell_type": "markdown",
      "metadata": {
        "id": "yGmp7t6zk40C"
      },
      "source": [
        "##### 3.2.2. Reversing Box-Cox transformation on predictions & real data\n",
        "\n"
      ]
    },
    {
      "cell_type": "code",
      "execution_count": null,
      "metadata": {
        "id": "hzX9aQkSk40C"
      },
      "outputs": [],
      "source": [
        "def reversing(predictions, _ci, target):\n",
        "    try:                              # in case the target wasn't transformed\n",
        "      predictions = inv_boxcox(predictions, _ci[target][0])\n",
        "    except:\n",
        "      print('The target wasn\\'t transformed')\n",
        "    return predictions"
      ]
    },
    {
      "cell_type": "markdown",
      "source": [
        "##### 3.2.3. Create dataframe analyzing the differences between real & predicted values"
      ],
      "metadata": {
        "id": "yvh3jygWCURR"
      }
    },
    {
      "cell_type": "code",
      "source": [
        "def diff_df(y_test, _ci, target, predictions):\n",
        "    results = pd.DataFrame()\n",
        "    results['true'] = reversing(y_test, _ci, target)\n",
        "    results['pred'] = reversing(predictions, _ci, target)\n",
        "    results['diff'] = results.apply(lambda x: abs(x['true'] - x['pred']), axis=1)\n",
        "    results = results.sort_values('diff', ascending=False).head(20)\n",
        "    return results"
      ],
      "metadata": {
        "id": "Jdu2BqgzA4a7"
      },
      "execution_count": null,
      "outputs": []
    },
    {
      "cell_type": "markdown",
      "source": [
        "##### 3.2.4. Calculate RMSE, MSE, and MAE on reversed data"
      ],
      "metadata": {
        "id": "Rc_iF1TrCBBu"
      }
    },
    {
      "cell_type": "code",
      "source": [
        "def evaluate_model_2(y_test, predictions):                                        \n",
        "    RMSE = mean_squared_error(y_test, predictions, squared=False)\n",
        "    MSE = mean_squared_error(y_test, predictions)\n",
        "    MAE = mean_absolute_error(y_test, predictions)\n",
        "    return print(\"RMSE =\", RMSE), print(\"MSE =\", MSE), print(\"MAE =\", MAE)"
      ],
      "metadata": {
        "id": "aB7Ob0K8A6-0"
      },
      "execution_count": null,
      "outputs": []
    },
    {
      "cell_type": "markdown",
      "source": [
        "##### 3.2.5. Plot results"
      ],
      "metadata": {
        "id": "Pcq6EbpRCdFb"
      }
    },
    {
      "cell_type": "code",
      "source": [
        "def we_like_to_see(results):\n",
        "    beautiful_graph = sns.regplot(results['true'], results['pred'])\n",
        "    return beautiful_graph"
      ],
      "metadata": {
        "id": "hW7Ms2m4Azml"
      },
      "execution_count": null,
      "outputs": []
    },
    {
      "cell_type": "markdown",
      "metadata": {
        "id": "h0kL34_hk40D"
      },
      "source": [
        "#### 3.3. Optimize model for the `overall_score`"
      ]
    },
    {
      "cell_type": "markdown",
      "source": [
        "##### 3.3.1. Use all of the transformations:"
      ],
      "metadata": {
        "id": "h3-N8SzlDwK_"
      }
    },
    {
      "cell_type": "code",
      "source": [
        "# Create dataframe copy\n",
        "data_1 = data.copy()\n",
        "\n",
        "# Remove correlated data\n",
        "to_drop = corr_destroyer(data_1, target='overall_score')\n",
        "data_1.drop(to_drop, axis=1, inplace=True)"
      ],
      "metadata": {
        "id": "E2ak5rFk9-5W"
      },
      "execution_count": null,
      "outputs": []
    },
    {
      "cell_type": "code",
      "execution_count": null,
      "metadata": {
        "colab": {
          "base_uri": "https://localhost:8080/",
          "height": 480
        },
        "id": "62gH6tphk40D",
        "outputId": "4a417c4e-b186-45bc-fdaf-c66fed38c97d"
      },
      "outputs": [
        {
          "output_type": "stream",
          "name": "stdout",
          "text": [
            "0.9999984287018612\n",
            "The target wasn't transformed\n",
            "RMSE = 0.00018571655497860316\n",
            "MSE = 3.4490638793120536e-08\n",
            "MAE = 4.8728944057285046e-06\n",
            "The target wasn't transformed\n",
            "The target wasn't transformed\n"
          ]
        },
        {
          "output_type": "stream",
          "name": "stderr",
          "text": [
            "/usr/local/lib/python3.7/dist-packages/seaborn/_decorators.py:43: FutureWarning: Pass the following variables as keyword args: x, y. From version 0.12, the only valid positional argument will be `data`, and passing other arguments without an explicit keyword will result in an error or misinterpretation.\n",
            "  FutureWarning\n"
          ]
        },
        {
          "output_type": "execute_result",
          "data": {
            "text/plain": [
              "<matplotlib.axes._subplots.AxesSubplot at 0x7fd43738cf90>"
            ]
          },
          "metadata": {},
          "execution_count": 113
        },
        {
          "output_type": "display_data",
          "data": {
            "image/png": "[encoded data removed]",
            "text/plain": [
              "<Figure size 432x288 with 1 Axes>"
            ]
          },
          "metadata": {
            "needs_background": "light"
          }
        }
      ],
      "source": [
        "# 1. Remove outliers\n",
        "data_1 = remove_outliers(data_1)\n",
        "\n",
        "# 2. Box-Cox transform\n",
        "data_1, _ci_1 = boxcox_transform(data_1)\n",
        "\n",
        "# 3. Scale numerical data\n",
        "num_norm_1 = normalize_data(data_1)\n",
        "\n",
        "# 4. Encode categorical data\n",
        "cat_1 = encode_cat(data_1)\n",
        "\n",
        "# 5. Merge numerical & categorical data\n",
        "new_df_1 = new_df(num_norm_1, cat_1)\n",
        "\n",
        "# 6. Run regression\n",
        "r2_1, predictions_1, y_test_1 = regression(new_df_1, 'overall_score')\n",
        "print(r2_1)\n",
        "\n",
        "# 7. See the predictions\n",
        "predictions_1 = reversing(predictions_1, _ci=_ci_1, target='overall_score')\n",
        "evaluate_model_2(y_test_1, predictions_1)\n",
        "results = diff_df(y_test_1, _ci_1, target='overall_score', predictions=predictions_1)\n",
        "we_like_to_see(results)"
      ]
    },
    {
      "cell_type": "markdown",
      "source": [
        "##### 3.3.2. Use everything but corr_destroyer:"
      ],
      "metadata": {
        "id": "0NQeJtKPD-1d"
      }
    },
    {
      "cell_type": "code",
      "source": [
        "# Create dataframe copy\n",
        "data_1 = data.copy()\n",
        "\n",
        "# Remove correlated data\n",
        "#to_drop = corr_destroyer(data_1, target='overall_score')\n",
        "#data_1.drop(to_drop, axis=1, inplace=True)"
      ],
      "metadata": {
        "id": "WNL9Rj7wD-12"
      },
      "execution_count": null,
      "outputs": []
    },
    {
      "cell_type": "code",
      "execution_count": null,
      "metadata": {
        "outputId": "005de78f-572b-4d0c-b425-d20f5e51e97f",
        "colab": {
          "base_uri": "https://localhost:8080/",
          "height": 480
        },
        "id": "olNFOD-vD-13"
      },
      "outputs": [
        {
          "output_type": "stream",
          "name": "stdout",
          "text": [
            "0.9999854211986992\n",
            "The target wasn't transformed\n",
            "RMSE = 0.0006230795321679564\n",
            "MSE = 3.882281034066395e-07\n",
            "MAE = 1.8100393657776552e-05\n",
            "The target wasn't transformed\n",
            "The target wasn't transformed\n"
          ]
        },
        {
          "output_type": "stream",
          "name": "stderr",
          "text": [
            "/usr/local/lib/python3.7/dist-packages/seaborn/_decorators.py:43: FutureWarning: Pass the following variables as keyword args: x, y. From version 0.12, the only valid positional argument will be `data`, and passing other arguments without an explicit keyword will result in an error or misinterpretation.\n",
            "  FutureWarning\n"
          ]
        },
        {
          "output_type": "execute_result",
          "data": {
            "text/plain": [
              "<matplotlib.axes._subplots.AxesSubplot at 0x7fd436e15d90>"
            ]
          },
          "metadata": {},
          "execution_count": 116
        },
        {
          "output_type": "display_data",
          "data": {
            "image/png": "[encoded data removed]",
            "text/plain": [
              "<Figure size 432x288 with 1 Axes>"
            ]
          },
          "metadata": {
            "needs_background": "light"
          }
        }
      ],
      "source": [
        "# 1. Remove outliers\n",
        "data_1 = remove_outliers(data_1)\n",
        "\n",
        "# 2. Box-Cox transform\n",
        "data_1, _ci_1 = boxcox_transform(data_1)\n",
        "\n",
        "# 3. Scale numerical data\n",
        "num_norm_1 = normalize_data(data_1)\n",
        "\n",
        "# 4. Encode categorical data\n",
        "cat_1 = encode_cat(data_1)\n",
        "\n",
        "# 5. Merge numerical & categorical data\n",
        "new_df_1 = new_df(num_norm_1, cat_1)\n",
        "\n",
        "# 6. Run regression\n",
        "r2_1, predictions_1, y_test_1 = regression(new_df_1, 'overall_score')\n",
        "print(r2_1)\n",
        "\n",
        "# 7. See the predictions\n",
        "predictions_1 = reversing(predictions_1, _ci=_ci_1, target='overall_score')\n",
        "evaluate_model_2(y_test_1, predictions_1)\n",
        "results = diff_df(y_test_1, _ci_1, target='overall_score', predictions=predictions_1)\n",
        "we_like_to_see(results)"
      ]
    },
    {
      "cell_type": "markdown",
      "source": [
        "##### 3.3.3. Use everything but remove_outliers:"
      ],
      "metadata": {
        "id": "0lOIf00-EHM-"
      }
    },
    {
      "cell_type": "code",
      "source": [
        "# Create dataframe copy\n",
        "data_1 = data.copy()\n",
        "\n",
        "# Remove correlated data\n",
        "to_drop = corr_destroyer(data_1, target='overall_score')\n",
        "data_1.drop(to_drop, axis=1, inplace=True)"
      ],
      "metadata": {
        "id": "-CAE6gc6EHM_"
      },
      "execution_count": null,
      "outputs": []
    },
    {
      "cell_type": "code",
      "execution_count": null,
      "metadata": {
        "outputId": "f1ed7ca5-1e59-4ff3-f111-cf1588f3feb7",
        "colab": {
          "base_uri": "https://localhost:8080/",
          "height": 482
        },
        "id": "hW8yd_ZoEHNA"
      },
      "outputs": [
        {
          "output_type": "stream",
          "name": "stdout",
          "text": [
            "0.9999995608843807\n",
            "The target wasn't transformed\n",
            "RMSE = 9.419556743944621e-05\n",
            "MSE = 8.872804925239258e-09\n",
            "MAE = 3.1252033112383055e-06\n",
            "The target wasn't transformed\n",
            "The target wasn't transformed\n"
          ]
        },
        {
          "output_type": "stream",
          "name": "stderr",
          "text": [
            "/usr/local/lib/python3.7/dist-packages/seaborn/_decorators.py:43: FutureWarning: Pass the following variables as keyword args: x, y. From version 0.12, the only valid positional argument will be `data`, and passing other arguments without an explicit keyword will result in an error or misinterpretation.\n",
            "  FutureWarning\n"
          ]
        },
        {
          "output_type": "execute_result",
          "data": {
            "text/plain": [
              "<matplotlib.axes._subplots.AxesSubplot at 0x7fd436d74f90>"
            ]
          },
          "metadata": {},
          "execution_count": 118
        },
        {
          "output_type": "display_data",
          "data": {
            "image/png": "[encoded data removed]",
            "text/plain": [
              "<Figure size 432x288 with 1 Axes>"
            ]
          },
          "metadata": {
            "needs_background": "light"
          }
        }
      ],
      "source": [
        "# 1. Remove outliers\n",
        "#data_1 = remove_outliers(data_1)\n",
        "\n",
        "# 2. Box-Cox transform\n",
        "data_1, _ci_1 = boxcox_transform(data_1)\n",
        "\n",
        "# 3. Scale numerical data\n",
        "num_norm_1 = normalize_data(data_1)\n",
        "\n",
        "# 4. Encode categorical data\n",
        "cat_1 = encode_cat(data_1)\n",
        "\n",
        "# 5. Merge numerical & categorical data\n",
        "new_df_1 = new_df(num_norm_1, cat_1)\n",
        "\n",
        "# 6. Run regression\n",
        "r2_1, predictions_1, y_test_1 = regression(new_df_1, 'overall_score')\n",
        "print(r2_1)\n",
        "\n",
        "# 7. See the predictions\n",
        "predictions_1 = reversing(predictions_1, _ci=_ci_1, target='overall_score')\n",
        "evaluate_model_2(y_test_1, predictions_1)\n",
        "results = diff_df(y_test_1, _ci_1, target='overall_score', predictions=predictions_1)\n",
        "we_like_to_see(results)"
      ]
    },
    {
      "cell_type": "markdown",
      "source": [
        "##### 3.3.4. Use everything but Box-Cox:"
      ],
      "metadata": {
        "id": "UjOGR0FMEQQP"
      }
    },
    {
      "cell_type": "code",
      "source": [
        "# Create dataframe copy\n",
        "data_1 = data.copy()\n",
        "\n",
        "# Remove correlated data\n",
        "to_drop = corr_destroyer(data_1, target='overall_score')\n",
        "data_1.drop(to_drop, axis=1, inplace=True)"
      ],
      "metadata": {
        "id": "bsuUrGF7EQQQ"
      },
      "execution_count": null,
      "outputs": []
    },
    {
      "cell_type": "code",
      "execution_count": null,
      "metadata": {
        "outputId": "cfd64593-a55a-4f00-c768-ea14741870ac",
        "colab": {
          "base_uri": "https://localhost:8080/",
          "height": 480
        },
        "id": "wDUTVX4nEQQR"
      },
      "outputs": [
        {
          "output_type": "stream",
          "name": "stdout",
          "text": [
            "0.9999999999999887\n",
            "The target wasn't transformed\n",
            "RMSE = 1.5791532256875433e-08\n",
            "MSE = 2.4937249101993734e-16\n",
            "MAE = 3.4886644613229873e-10\n",
            "The target wasn't transformed\n",
            "The target wasn't transformed\n"
          ]
        },
        {
          "output_type": "stream",
          "name": "stderr",
          "text": [
            "/usr/local/lib/python3.7/dist-packages/seaborn/_decorators.py:43: FutureWarning: Pass the following variables as keyword args: x, y. From version 0.12, the only valid positional argument will be `data`, and passing other arguments without an explicit keyword will result in an error or misinterpretation.\n",
            "  FutureWarning\n"
          ]
        },
        {
          "output_type": "execute_result",
          "data": {
            "text/plain": [
              "<matplotlib.axes._subplots.AxesSubplot at 0x7fd4372577d0>"
            ]
          },
          "metadata": {},
          "execution_count": 120
        },
        {
          "output_type": "display_data",
          "data": {
            "image/png": "[encoded data removed]",
            "text/plain": [
              "<Figure size 432x288 with 1 Axes>"
            ]
          },
          "metadata": {
            "needs_background": "light"
          }
        }
      ],
      "source": [
        "# 1. Remove outliers\n",
        "data_1 = remove_outliers(data_1)\n",
        "\n",
        "# 2. Box-Cox transform\n",
        "#data_1, _ci_1 = boxcox_transform(data_1)\n",
        "\n",
        "# 3. Scale numerical data\n",
        "num_norm_1 = normalize_data(data_1)\n",
        "\n",
        "# 4. Encode categorical data\n",
        "cat_1 = encode_cat(data_1)\n",
        "\n",
        "# 5. Merge numerical & categorical data\n",
        "new_df_1 = new_df(num_norm_1, cat_1)\n",
        "\n",
        "# 6. Run regression\n",
        "r2_1, predictions_1, y_test_1 = regression(new_df_1, 'overall_score')\n",
        "print(r2_1)\n",
        "\n",
        "# 7. See the predictions\n",
        "predictions_1 = reversing(predictions_1, _ci=_ci_1, target='overall_score')\n",
        "evaluate_model_2(y_test_1, predictions_1)\n",
        "results = diff_df(y_test_1, _ci_1, target='overall_score', predictions=predictions_1)\n",
        "we_like_to_see(results)"
      ]
    },
    {
      "cell_type": "markdown",
      "source": [
        "##### 3.3.5. Use everything but scaling"
      ],
      "metadata": {
        "id": "-BBw_z49EcpR"
      }
    },
    {
      "cell_type": "code",
      "source": [
        "# Create dataframe copy\n",
        "data_1 = data.copy()\n",
        "\n",
        "# Remove correlated data\n",
        "to_drop = corr_destroyer(data_1, target='overall_score')\n",
        "data_1.drop(to_drop, axis=1, inplace=True)"
      ],
      "metadata": {
        "id": "Dk2O6YRpEcpT"
      },
      "execution_count": null,
      "outputs": []
    },
    {
      "cell_type": "code",
      "execution_count": null,
      "metadata": {
        "outputId": "215ab7c1-06ca-40d0-e1b9-29d9a9697167",
        "colab": {
          "base_uri": "https://localhost:8080/",
          "height": 480
        },
        "id": "YPncj7vKEcpU"
      },
      "outputs": [
        {
          "output_type": "stream",
          "name": "stdout",
          "text": [
            "1.0\n",
            "The target wasn't transformed\n",
            "RMSE = 7.147825896577388e-11\n",
            "MSE = 5.109141504778235e-21\n",
            "MAE = 5.31698339960225e-11\n",
            "The target wasn't transformed\n",
            "The target wasn't transformed\n"
          ]
        },
        {
          "output_type": "stream",
          "name": "stderr",
          "text": [
            "/usr/local/lib/python3.7/dist-packages/seaborn/_decorators.py:43: FutureWarning: Pass the following variables as keyword args: x, y. From version 0.12, the only valid positional argument will be `data`, and passing other arguments without an explicit keyword will result in an error or misinterpretation.\n",
            "  FutureWarning\n"
          ]
        },
        {
          "output_type": "execute_result",
          "data": {
            "text/plain": [
              "<matplotlib.axes._subplots.AxesSubplot at 0x7fd436bb8fd0>"
            ]
          },
          "metadata": {},
          "execution_count": 125
        },
        {
          "output_type": "display_data",
          "data": {
            "image/png": "[encoded data removed]",
            "text/plain": [
              "<Figure size 432x288 with 1 Axes>"
            ]
          },
          "metadata": {
            "needs_background": "light"
          }
        }
      ],
      "source": [
        "# 1. Remove outliers\n",
        "data_1 = remove_outliers(data_1)\n",
        "\n",
        "# 2. Box-Cox transform\n",
        "data_1, _ci_1 = boxcox_transform(data_1)\n",
        "\n",
        "# 3. Scale numerical data\n",
        "#num_norm_1 = normalize_data(data_1)\n",
        "num_norm_1 = data_1.select_dtypes(np.number)\n",
        "\n",
        "# 4. Encode categorical data\n",
        "cat_1 = encode_cat(data_1)\n",
        "\n",
        "# 5. Merge numerical & categorical data\n",
        "new_df_1 = new_df(num_norm_1, cat_1)\n",
        "\n",
        "# 6. Run regression\n",
        "r2_1, predictions_1, y_test_1 = regression(new_df_1, 'overall_score')\n",
        "print(r2_1)\n",
        "\n",
        "# 7. See the predictions\n",
        "predictions_1 = reversing(predictions_1, _ci=_ci_1, target='overall_score')\n",
        "evaluate_model_2(y_test_1, predictions_1)\n",
        "results = diff_df(y_test_1, _ci_1, target='overall_score', predictions=predictions_1)\n",
        "we_like_to_see(results)"
      ]
    },
    {
      "cell_type": "markdown",
      "source": [
        "##### 3.3.6. Use no transformation:"
      ],
      "metadata": {
        "id": "EgaJSIgAEnQJ"
      }
    },
    {
      "cell_type": "code",
      "source": [
        "# Create dataframe copy\n",
        "data_1 = data.copy()\n",
        "\n",
        "# Remove correlated data\n",
        "#to_drop = corr_destroyer(data_1, target='overall_score')\n",
        "#data_1.drop(to_drop, axis=1, inplace=True)"
      ],
      "metadata": {
        "id": "uoC1GKyEEnQK"
      },
      "execution_count": null,
      "outputs": []
    },
    {
      "cell_type": "code",
      "execution_count": null,
      "metadata": {
        "outputId": "edcb558f-2ec7-499e-ad93-92f8991ebdf7",
        "colab": {
          "base_uri": "https://localhost:8080/",
          "height": 480
        },
        "id": "w1ecD-G0EnQL"
      },
      "outputs": [
        {
          "output_type": "stream",
          "name": "stdout",
          "text": [
            "1.0\n",
            "The target wasn't transformed\n",
            "RMSE = 1.5476513044394388e-09\n",
            "MSE = 2.3952245601330963e-18\n",
            "MAE = 1.240832995221172e-09\n",
            "The target wasn't transformed\n",
            "The target wasn't transformed\n"
          ]
        },
        {
          "output_type": "stream",
          "name": "stderr",
          "text": [
            "/usr/local/lib/python3.7/dist-packages/seaborn/_decorators.py:43: FutureWarning: Pass the following variables as keyword args: x, y. From version 0.12, the only valid positional argument will be `data`, and passing other arguments without an explicit keyword will result in an error or misinterpretation.\n",
            "  FutureWarning\n"
          ]
        },
        {
          "output_type": "execute_result",
          "data": {
            "text/plain": [
              "<matplotlib.axes._subplots.AxesSubplot at 0x7fd436b4bdd0>"
            ]
          },
          "metadata": {},
          "execution_count": 127
        },
        {
          "output_type": "display_data",
          "data": {
            "image/png": "[encoded data removed]",
            "text/plain": [
              "<Figure size 432x288 with 1 Axes>"
            ]
          },
          "metadata": {
            "needs_background": "light"
          }
        }
      ],
      "source": [
        "# 1. Remove outliers\n",
        "#data_1 = remove_outliers(data_1)\n",
        "\n",
        "# 2. Box-Cox transform\n",
        "#data_1, _ci_1 = boxcox_transform(data_1)\n",
        "\n",
        "# 3. Scale numerical data\n",
        "#num_norm_1 = normalize_data(data_1)\n",
        "num_norm_1 = data_1.select_dtypes(np.number)\n",
        "\n",
        "# 4. Encode categorical data\n",
        "cat_1 = encode_cat(data_1)\n",
        "\n",
        "# 5. Merge numerical & categorical data\n",
        "new_df_1 = new_df(num_norm_1, cat_1)\n",
        "\n",
        "# 6. Run regression\n",
        "r2_1, predictions_1, y_test_1 = regression(new_df_1, 'overall_score')\n",
        "print(r2_1)\n",
        "\n",
        "# 7. See the predictions\n",
        "predictions_1 = reversing(predictions_1, _ci=_ci_1, target='overall_score')\n",
        "evaluate_model_2(y_test_1, predictions_1)\n",
        "results = diff_df(y_test_1, _ci_1, target='overall_score', predictions=predictions_1)\n",
        "we_like_to_see(results)"
      ]
    },
    {
      "cell_type": "markdown",
      "source": [
        "We notice that the transformations have little to no effect on the result of the linear regressions, suggesting that the overall score has been calculated based on the features we selected to begin with. Next steps would be to study other targets in order to see if those would also be as dependent on the features."
      ],
      "metadata": {
        "id": "fxJpcW4OFS_O"
      }
    }
  ],
  "metadata": {
    "interpreter": {
      "hash": "916dbcbb3f70747c44a77c7bcd40155683ae19c65e1c03b4aa3499c5328201f1"
    },
    "kernelspec": {
      "display_name": "Python 3.8.10 64-bit",
      "language": "python",
      "name": "python3"
    },
    "language_info": {
      "codemirror_mode": {
        "name": "ipython",
        "version": 3
      },
      "file_extension": ".py",
      "mimetype": "text/x-python",
      "name": "python",
      "nbconvert_exporter": "python",
      "pygments_lexer": "ipython3",
      "version": "3.8.10"
    },
    "orig_nbformat": 4,
    "colab": {
      "name": "mini-project - 3. Modelling & Evaluation.ipynb",
      "provenance": [],
      "collapsed_sections": []
    }
  },
  "nbformat": 4,
  "nbformat_minor": 0
}